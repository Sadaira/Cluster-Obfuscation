{
 "cells": [
  {
   "cell_type": "markdown",
   "metadata": {},
   "source": [
    "# Imports"
   ]
  },
  {
   "cell_type": "code",
   "execution_count": 1,
   "metadata": {},
   "outputs": [
    {
     "name": "stderr",
     "output_type": "stream",
     "text": [
      "c:\\Users\\sadai\\anaconda3\\envs\\datasci\\Lib\\site-packages\\pandas\\core\\arrays\\masked.py:60: UserWarning: Pandas requires version '1.3.6' or newer of 'bottleneck' (version '1.3.5' currently installed).\n",
      "  from pandas.core import (\n"
     ]
    }
   ],
   "source": [
    "import matplotlib.pyplot as plt\n",
    "import numpy as np\n",
    "import os\n",
    "import pandas as pd\n",
    "import seaborn as sns\n",
    "from sklearn.model_selection import train_test_split\n",
    "import torch\n",
    "from transformers import AlbertTokenizer, DistilBertTokenizer, BertTokenizer, AlbertForSequenceClassification, DistilBertForSequenceClassification, BertForSequenceClassification, AdamW\n",
    "from tqdm.notebook import tqdm"
   ]
  },
  {
   "cell_type": "code",
   "execution_count": 2,
   "metadata": {},
   "outputs": [
    {
     "data": {
      "text/plain": [
       "'c:\\\\Users\\\\sadai\\\\Desktop\\\\Cluster_Obfuscation'"
      ]
     },
     "execution_count": 2,
     "metadata": {},
     "output_type": "execute_result"
    }
   ],
   "source": [
    "os.chdir('..') #change directory from \\notebooks to \\Cluster_Obfuscation\n",
    "os.getcwd()"
   ]
  },
  {
   "cell_type": "markdown",
   "metadata": {},
   "source": [
    "# Shared Preprocessing"
   ]
  },
  {
   "cell_type": "markdown",
   "metadata": {},
   "source": [
    "## Read in Dataset"
   ]
  },
  {
   "cell_type": "code",
   "execution_count": 5,
   "metadata": {},
   "outputs": [],
   "source": [
    "train_data = pd.read_csv(r\".\\data\\raw\\c50.csv\")\n",
    "test_data = pd.read_csv(r\".\\data\\raw\\c50_Test.csv\")\n",
    "test_data = test_data.drop(test_data.columns[0:2], axis=1)"
   ]
  },
  {
   "cell_type": "code",
   "execution_count": 7,
   "metadata": {},
   "outputs": [
    {
     "data": {
      "text/html": [
       "<div>\n",
       "<style scoped>\n",
       "    .dataframe tbody tr th:only-of-type {\n",
       "        vertical-align: middle;\n",
       "    }\n",
       "\n",
       "    .dataframe tbody tr th {\n",
       "        vertical-align: top;\n",
       "    }\n",
       "\n",
       "    .dataframe thead th {\n",
       "        text-align: right;\n",
       "    }\n",
       "</style>\n",
       "<table border=\"1\" class=\"dataframe\">\n",
       "  <thead>\n",
       "    <tr style=\"text-align: right;\">\n",
       "      <th></th>\n",
       "      <th>Text</th>\n",
       "      <th>true-author</th>\n",
       "    </tr>\n",
       "  </thead>\n",
       "  <tbody>\n",
       "    <tr>\n",
       "      <th>0</th>\n",
       "      <td>China and Britain agreed on Wednesday to relea...</td>\n",
       "      <td>candidate00046</td>\n",
       "    </tr>\n",
       "    <tr>\n",
       "      <th>1</th>\n",
       "      <td>The Federal Reserve may not be taking adequate...</td>\n",
       "      <td>candidate00001</td>\n",
       "    </tr>\n",
       "    <tr>\n",
       "      <th>2</th>\n",
       "      <td>Britain's motor industry reported 1996 car reg...</td>\n",
       "      <td>candidate00009</td>\n",
       "    </tr>\n",
       "    <tr>\n",
       "      <th>3</th>\n",
       "      <td>When the former Czechoslovak diplomat Josef Ko...</td>\n",
       "      <td>candidate00019</td>\n",
       "    </tr>\n",
       "    <tr>\n",
       "      <th>4</th>\n",
       "      <td>China is building a network of major toll high...</td>\n",
       "      <td>candidate00012</td>\n",
       "    </tr>\n",
       "  </tbody>\n",
       "</table>\n",
       "</div>"
      ],
      "text/plain": [
       "                                                Text     true-author\n",
       "0  China and Britain agreed on Wednesday to relea...  candidate00046\n",
       "1  The Federal Reserve may not be taking adequate...  candidate00001\n",
       "2  Britain's motor industry reported 1996 car reg...  candidate00009\n",
       "3  When the former Czechoslovak diplomat Josef Ko...  candidate00019\n",
       "4  China is building a network of major toll high...  candidate00012"
      ]
     },
     "execution_count": 7,
     "metadata": {},
     "output_type": "execute_result"
    }
   ],
   "source": [
    "test_data.head()"
   ]
  },
  {
   "cell_type": "code",
   "execution_count": 8,
   "metadata": {},
   "outputs": [
    {
     "data": {
      "text/html": [
       "<div>\n",
       "<style scoped>\n",
       "    .dataframe tbody tr th:only-of-type {\n",
       "        vertical-align: middle;\n",
       "    }\n",
       "\n",
       "    .dataframe tbody tr th {\n",
       "        vertical-align: top;\n",
       "    }\n",
       "\n",
       "    .dataframe thead th {\n",
       "        text-align: right;\n",
       "    }\n",
       "</style>\n",
       "<table border=\"1\" class=\"dataframe\">\n",
       "  <thead>\n",
       "    <tr style=\"text-align: right;\">\n",
       "      <th></th>\n",
       "      <th>Text</th>\n",
       "      <th>Author</th>\n",
       "    </tr>\n",
       "  </thead>\n",
       "  <tbody>\n",
       "    <tr>\n",
       "      <th>0</th>\n",
       "      <td>China and Britain agreed on Wednesday to relea...</td>\n",
       "      <td>candidate00046</td>\n",
       "    </tr>\n",
       "    <tr>\n",
       "      <th>1</th>\n",
       "      <td>The Federal Reserve may not be taking adequate...</td>\n",
       "      <td>candidate00001</td>\n",
       "    </tr>\n",
       "    <tr>\n",
       "      <th>2</th>\n",
       "      <td>Britain's motor industry reported 1996 car reg...</td>\n",
       "      <td>candidate00009</td>\n",
       "    </tr>\n",
       "    <tr>\n",
       "      <th>3</th>\n",
       "      <td>When the former Czechoslovak diplomat Josef Ko...</td>\n",
       "      <td>candidate00019</td>\n",
       "    </tr>\n",
       "    <tr>\n",
       "      <th>4</th>\n",
       "      <td>China is building a network of major toll high...</td>\n",
       "      <td>candidate00012</td>\n",
       "    </tr>\n",
       "  </tbody>\n",
       "</table>\n",
       "</div>"
      ],
      "text/plain": [
       "                                                Text          Author\n",
       "0  China and Britain agreed on Wednesday to relea...  candidate00046\n",
       "1  The Federal Reserve may not be taking adequate...  candidate00001\n",
       "2  Britain's motor industry reported 1996 car reg...  candidate00009\n",
       "3  When the former Czechoslovak diplomat Josef Ko...  candidate00019\n",
       "4  China is building a network of major toll high...  candidate00012"
      ]
     },
     "execution_count": 8,
     "metadata": {},
     "output_type": "execute_result"
    }
   ],
   "source": [
    "test_data = test_data.rename(columns={'true-author': 'Author'})\n",
    "test_data.head()"
   ]
  },
  {
   "cell_type": "markdown",
   "metadata": {},
   "source": [
    "## Combine Dataset"
   ]
  },
  {
   "cell_type": "code",
   "execution_count": 10,
   "metadata": {},
   "outputs": [
    {
     "data": {
      "text/html": [
       "<div>\n",
       "<style scoped>\n",
       "    .dataframe tbody tr th:only-of-type {\n",
       "        vertical-align: middle;\n",
       "    }\n",
       "\n",
       "    .dataframe tbody tr th {\n",
       "        vertical-align: top;\n",
       "    }\n",
       "\n",
       "    .dataframe thead th {\n",
       "        text-align: right;\n",
       "    }\n",
       "</style>\n",
       "<table border=\"1\" class=\"dataframe\">\n",
       "  <thead>\n",
       "    <tr style=\"text-align: right;\">\n",
       "      <th></th>\n",
       "      <th>Author</th>\n",
       "      <th>Text</th>\n",
       "    </tr>\n",
       "  </thead>\n",
       "  <tbody>\n",
       "    <tr>\n",
       "      <th>0</th>\n",
       "      <td>candidate00001</td>\n",
       "      <td>The Internet may be overflowing with new techn...</td>\n",
       "    </tr>\n",
       "    <tr>\n",
       "      <th>1</th>\n",
       "      <td>candidate00001</td>\n",
       "      <td>The U.S. Postal Service announced Wednesday a ...</td>\n",
       "    </tr>\n",
       "    <tr>\n",
       "      <th>2</th>\n",
       "      <td>candidate00001</td>\n",
       "      <td>Elementary school students with access to the ...</td>\n",
       "    </tr>\n",
       "    <tr>\n",
       "      <th>3</th>\n",
       "      <td>candidate00001</td>\n",
       "      <td>An influential Internet organisation has backe...</td>\n",
       "    </tr>\n",
       "    <tr>\n",
       "      <th>4</th>\n",
       "      <td>candidate00001</td>\n",
       "      <td>An influential Internet organisation has backe...</td>\n",
       "    </tr>\n",
       "    <tr>\n",
       "      <th>...</th>\n",
       "      <td>...</td>\n",
       "      <td>...</td>\n",
       "    </tr>\n",
       "    <tr>\n",
       "      <th>4995</th>\n",
       "      <td>candidate00018</td>\n",
       "      <td>Britain's big banks look set to raise profits ...</td>\n",
       "    </tr>\n",
       "    <tr>\n",
       "      <th>4996</th>\n",
       "      <td>candidate00047</td>\n",
       "      <td>After two years of hype and euphoria about the...</td>\n",
       "    </tr>\n",
       "    <tr>\n",
       "      <th>4997</th>\n",
       "      <td>candidate00002</td>\n",
       "      <td>Czech annual average consumer inflation eased ...</td>\n",
       "    </tr>\n",
       "    <tr>\n",
       "      <th>4998</th>\n",
       "      <td>candidate00037</td>\n",
       "      <td>Kellogg Co, whose profits for 1996 are under p...</td>\n",
       "    </tr>\n",
       "    <tr>\n",
       "      <th>4999</th>\n",
       "      <td>candidate00018</td>\n",
       "      <td>London-based international bank HSBC Holdings ...</td>\n",
       "    </tr>\n",
       "  </tbody>\n",
       "</table>\n",
       "<p>5000 rows × 2 columns</p>\n",
       "</div>"
      ],
      "text/plain": [
       "              Author                                               Text\n",
       "0     candidate00001  The Internet may be overflowing with new techn...\n",
       "1     candidate00001  The U.S. Postal Service announced Wednesday a ...\n",
       "2     candidate00001  Elementary school students with access to the ...\n",
       "3     candidate00001  An influential Internet organisation has backe...\n",
       "4     candidate00001  An influential Internet organisation has backe...\n",
       "...              ...                                                ...\n",
       "4995  candidate00018  Britain's big banks look set to raise profits ...\n",
       "4996  candidate00047  After two years of hype and euphoria about the...\n",
       "4997  candidate00002  Czech annual average consumer inflation eased ...\n",
       "4998  candidate00037  Kellogg Co, whose profits for 1996 are under p...\n",
       "4999  candidate00018  London-based international bank HSBC Holdings ...\n",
       "\n",
       "[5000 rows x 2 columns]"
      ]
     },
     "execution_count": 10,
     "metadata": {},
     "output_type": "execute_result"
    }
   ],
   "source": [
    "full_data = pd.concat([train_data, test_data])\n",
    "full_data.reset_index(drop=True, inplace=True)\n",
    "full_data"
   ]
  },
  {
   "cell_type": "markdown",
   "metadata": {},
   "source": [
    "## Preprocess Text"
   ]
  },
  {
   "cell_type": "code",
   "execution_count": 11,
   "metadata": {},
   "outputs": [],
   "source": [
    "# remove leading and trailing whitespace\n",
    "full_data['Text'] = full_data['Text'].str.strip()\n",
    "\n",
    "# # replace multiple spaces with a single space\n",
    "full_data['Text'] = full_data['Text'].str.replace(r'\\s+', ' ')"
   ]
  },
  {
   "cell_type": "code",
   "execution_count": 12,
   "metadata": {},
   "outputs": [
    {
     "data": {
      "text/html": [
       "<div>\n",
       "<style scoped>\n",
       "    .dataframe tbody tr th:only-of-type {\n",
       "        vertical-align: middle;\n",
       "    }\n",
       "\n",
       "    .dataframe tbody tr th {\n",
       "        vertical-align: top;\n",
       "    }\n",
       "\n",
       "    .dataframe thead th {\n",
       "        text-align: right;\n",
       "    }\n",
       "</style>\n",
       "<table border=\"1\" class=\"dataframe\">\n",
       "  <thead>\n",
       "    <tr style=\"text-align: right;\">\n",
       "      <th></th>\n",
       "      <th>Author</th>\n",
       "      <th>Text</th>\n",
       "    </tr>\n",
       "  </thead>\n",
       "  <tbody>\n",
       "    <tr>\n",
       "      <th>0</th>\n",
       "      <td>candidate00001</td>\n",
       "      <td>The Internet may be overflowing with new techn...</td>\n",
       "    </tr>\n",
       "    <tr>\n",
       "      <th>1</th>\n",
       "      <td>candidate00001</td>\n",
       "      <td>The U.S. Postal Service announced Wednesday a ...</td>\n",
       "    </tr>\n",
       "    <tr>\n",
       "      <th>2</th>\n",
       "      <td>candidate00001</td>\n",
       "      <td>Elementary school students with access to the ...</td>\n",
       "    </tr>\n",
       "    <tr>\n",
       "      <th>3</th>\n",
       "      <td>candidate00001</td>\n",
       "      <td>An influential Internet organisation has backe...</td>\n",
       "    </tr>\n",
       "    <tr>\n",
       "      <th>4</th>\n",
       "      <td>candidate00001</td>\n",
       "      <td>An influential Internet organisation has backe...</td>\n",
       "    </tr>\n",
       "  </tbody>\n",
       "</table>\n",
       "</div>"
      ],
      "text/plain": [
       "           Author                                               Text\n",
       "0  candidate00001  The Internet may be overflowing with new techn...\n",
       "1  candidate00001  The U.S. Postal Service announced Wednesday a ...\n",
       "2  candidate00001  Elementary school students with access to the ...\n",
       "3  candidate00001  An influential Internet organisation has backe...\n",
       "4  candidate00001  An influential Internet organisation has backe..."
      ]
     },
     "execution_count": 12,
     "metadata": {},
     "output_type": "execute_result"
    }
   ],
   "source": [
    "full_data.head()"
   ]
  },
  {
   "cell_type": "code",
   "execution_count": 13,
   "metadata": {},
   "outputs": [],
   "source": [
    "word_count_func = lambda x: len(x.split())\n",
    "# train_data['word_count'] = train_data['Text'].apply(word_count_func)\n",
    "# test_data['word_count'] = test_data['Text'].apply(word_count_func)\n",
    "full_data['word_count'] = full_data['Text'].apply(word_count_func)"
   ]
  },
  {
   "cell_type": "code",
   "execution_count": 14,
   "metadata": {},
   "outputs": [
    {
     "data": {
      "text/plain": [
       "Author\n",
       "candidate00001    28.39\n",
       "candidate00002    29.21\n",
       "candidate00003    30.92\n",
       "candidate00004    30.97\n",
       "candidate00005    32.81\n",
       "candidate00006    30.47\n",
       "candidate00007    29.36\n",
       "candidate00008    33.58\n",
       "candidate00009    34.28\n",
       "candidate00010    30.19\n",
       "candidate00011    30.10\n",
       "candidate00012    31.64\n",
       "candidate00013    28.52\n",
       "candidate00014    30.60\n",
       "candidate00015    31.22\n",
       "candidate00016    31.26\n",
       "candidate00017    31.84\n",
       "candidate00018    31.57\n",
       "candidate00019    31.85\n",
       "candidate00020    29.55\n",
       "candidate00021    30.46\n",
       "candidate00022    29.66\n",
       "candidate00023    31.18\n",
       "candidate00024    30.90\n",
       "candidate00025    30.23\n",
       "candidate00026    27.73\n",
       "candidate00027    25.97\n",
       "candidate00028    33.71\n",
       "candidate00029    32.18\n",
       "candidate00030    30.25\n",
       "candidate00031    30.18\n",
       "candidate00032    28.48\n",
       "candidate00033    29.67\n",
       "candidate00034    30.61\n",
       "candidate00035    32.32\n",
       "candidate00036    30.73\n",
       "candidate00037    29.62\n",
       "candidate00038    32.94\n",
       "candidate00039    30.96\n",
       "candidate00040    30.41\n",
       "candidate00041    30.80\n",
       "candidate00042    30.14\n",
       "candidate00043    29.05\n",
       "candidate00044    31.74\n",
       "candidate00045    30.60\n",
       "candidate00046    32.22\n",
       "candidate00047    31.70\n",
       "candidate00048    33.57\n",
       "candidate00049    32.63\n",
       "candidate00050    29.08\n",
       "Name: word_count, dtype: float64"
      ]
     },
     "execution_count": 14,
     "metadata": {},
     "output_type": "execute_result"
    }
   ],
   "source": [
    "full_data.Author.value_counts()\n",
    "full_data.groupby('Author').word_count.mean()"
   ]
  },
  {
   "cell_type": "code",
   "execution_count": 15,
   "metadata": {},
   "outputs": [
    {
     "name": "stderr",
     "output_type": "stream",
     "text": [
      "c:\\Users\\sadai\\anaconda3\\envs\\datasci\\Lib\\site-packages\\seaborn\\_oldcore.py:1119: FutureWarning: use_inf_as_na option is deprecated and will be removed in a future version. Convert inf values to NaN before operating instead.\n",
      "  with pd.option_context('mode.use_inf_as_na', True):\n",
      "c:\\Users\\sadai\\anaconda3\\envs\\datasci\\Lib\\site-packages\\seaborn\\axisgrid.py:118: UserWarning: The figure layout has changed to tight\n",
      "  self._figure.tight_layout(*args, **kwargs)\n"
     ]
    },
    {
     "data": {
      "text/plain": [
       "<Figure size 800x800 with 0 Axes>"
      ]
     },
     "metadata": {},
     "output_type": "display_data"
    },
    {
     "data": {
      "image/png": "[encoded data removed]",
      "text/plain": [
       "<Figure size 500x500 with 1 Axes>"
      ]
     },
     "metadata": {},
     "output_type": "display_data"
    }
   ],
   "source": [
    "plt.figure(figsize= (8, 8))\n",
    "\n",
    "sns.displot(full_data['word_count'])\n",
    "\n",
    "plt.xlim(0, 100)\n",
    "\n",
    "plt.xlabel('The num of words ', fontsize = 16)\n",
    "plt.title(\"The Number of Words Distribution\", fontsize = 18)\n",
    "plt.show()"
   ]
  },
  {
   "cell_type": "markdown",
   "metadata": {},
   "source": [
    "Due to the small set of authors, I will initially use the whole dataset."
   ]
  },
  {
   "cell_type": "code",
   "execution_count": 16,
   "metadata": {},
   "outputs": [
    {
     "data": {
      "text/html": [
       "<div>\n",
       "<style scoped>\n",
       "    .dataframe tbody tr th:only-of-type {\n",
       "        vertical-align: middle;\n",
       "    }\n",
       "\n",
       "    .dataframe tbody tr th {\n",
       "        vertical-align: top;\n",
       "    }\n",
       "\n",
       "    .dataframe thead th {\n",
       "        text-align: right;\n",
       "    }\n",
       "</style>\n",
       "<table border=\"1\" class=\"dataframe\">\n",
       "  <thead>\n",
       "    <tr style=\"text-align: right;\">\n",
       "      <th></th>\n",
       "      <th>Author</th>\n",
       "      <th>Text</th>\n",
       "      <th>word_count</th>\n",
       "      <th>encoded_Author</th>\n",
       "    </tr>\n",
       "  </thead>\n",
       "  <tbody>\n",
       "    <tr>\n",
       "      <th>0</th>\n",
       "      <td>candidate00001</td>\n",
       "      <td>The Internet may be overflowing with new techn...</td>\n",
       "      <td>18</td>\n",
       "      <td>0</td>\n",
       "    </tr>\n",
       "    <tr>\n",
       "      <th>1</th>\n",
       "      <td>candidate00001</td>\n",
       "      <td>The U.S. Postal Service announced Wednesday a ...</td>\n",
       "      <td>25</td>\n",
       "      <td>0</td>\n",
       "    </tr>\n",
       "    <tr>\n",
       "      <th>2</th>\n",
       "      <td>candidate00001</td>\n",
       "      <td>Elementary school students with access to the ...</td>\n",
       "      <td>30</td>\n",
       "      <td>0</td>\n",
       "    </tr>\n",
       "    <tr>\n",
       "      <th>3</th>\n",
       "      <td>candidate00001</td>\n",
       "      <td>An influential Internet organisation has backe...</td>\n",
       "      <td>23</td>\n",
       "      <td>0</td>\n",
       "    </tr>\n",
       "    <tr>\n",
       "      <th>4</th>\n",
       "      <td>candidate00001</td>\n",
       "      <td>An influential Internet organisation has backe...</td>\n",
       "      <td>23</td>\n",
       "      <td>0</td>\n",
       "    </tr>\n",
       "    <tr>\n",
       "      <th>...</th>\n",
       "      <td>...</td>\n",
       "      <td>...</td>\n",
       "      <td>...</td>\n",
       "      <td>...</td>\n",
       "    </tr>\n",
       "    <tr>\n",
       "      <th>4995</th>\n",
       "      <td>candidate00018</td>\n",
       "      <td>Britain's big banks look set to raise profits ...</td>\n",
       "      <td>37</td>\n",
       "      <td>17</td>\n",
       "    </tr>\n",
       "    <tr>\n",
       "      <th>4996</th>\n",
       "      <td>candidate00047</td>\n",
       "      <td>After two years of hype and euphoria about the...</td>\n",
       "      <td>31</td>\n",
       "      <td>46</td>\n",
       "    </tr>\n",
       "    <tr>\n",
       "      <th>4997</th>\n",
       "      <td>candidate00002</td>\n",
       "      <td>Czech annual average consumer inflation eased ...</td>\n",
       "      <td>19</td>\n",
       "      <td>1</td>\n",
       "    </tr>\n",
       "    <tr>\n",
       "      <th>4998</th>\n",
       "      <td>candidate00037</td>\n",
       "      <td>Kellogg Co, whose profits for 1996 are under p...</td>\n",
       "      <td>37</td>\n",
       "      <td>36</td>\n",
       "    </tr>\n",
       "    <tr>\n",
       "      <th>4999</th>\n",
       "      <td>candidate00018</td>\n",
       "      <td>London-based international bank HSBC Holdings ...</td>\n",
       "      <td>23</td>\n",
       "      <td>17</td>\n",
       "    </tr>\n",
       "  </tbody>\n",
       "</table>\n",
       "<p>5000 rows × 4 columns</p>\n",
       "</div>"
      ],
      "text/plain": [
       "              Author                                               Text  \\\n",
       "0     candidate00001  The Internet may be overflowing with new techn...   \n",
       "1     candidate00001  The U.S. Postal Service announced Wednesday a ...   \n",
       "2     candidate00001  Elementary school students with access to the ...   \n",
       "3     candidate00001  An influential Internet organisation has backe...   \n",
       "4     candidate00001  An influential Internet organisation has backe...   \n",
       "...              ...                                                ...   \n",
       "4995  candidate00018  Britain's big banks look set to raise profits ...   \n",
       "4996  candidate00047  After two years of hype and euphoria about the...   \n",
       "4997  candidate00002  Czech annual average consumer inflation eased ...   \n",
       "4998  candidate00037  Kellogg Co, whose profits for 1996 are under p...   \n",
       "4999  candidate00018  London-based international bank HSBC Holdings ...   \n",
       "\n",
       "      word_count  encoded_Author  \n",
       "0             18               0  \n",
       "1             25               0  \n",
       "2             30               0  \n",
       "3             23               0  \n",
       "4             23               0  \n",
       "...          ...             ...  \n",
       "4995          37              17  \n",
       "4996          31              46  \n",
       "4997          19               1  \n",
       "4998          37              36  \n",
       "4999          23              17  \n",
       "\n",
       "[5000 rows x 4 columns]"
      ]
     },
     "execution_count": 16,
     "metadata": {},
     "output_type": "execute_result"
    }
   ],
   "source": [
    "# Categorical encoding for author labels\n",
    "authors = pd.Categorical(full_data['Author']).categories\n",
    "full_data['encoded_Author'] = pd.Categorical(full_data['Author'], categories=authors).codes\n",
    "full_data"
   ]
  },
  {
   "cell_type": "markdown",
   "metadata": {},
   "source": [
    "## Split Data"
   ]
  },
  {
   "cell_type": "code",
   "execution_count": 17,
   "metadata": {},
   "outputs": [],
   "source": [
    "X = full_data['Text'].to_list()\n",
    "y = full_data['encoded_Author'].to_list()"
   ]
  },
  {
   "cell_type": "code",
   "execution_count": 18,
   "metadata": {},
   "outputs": [
    {
     "data": {
      "text/plain": [
       "(4500, 500, 4500, 500)"
      ]
     },
     "execution_count": 18,
     "metadata": {},
     "output_type": "execute_result"
    }
   ],
   "source": [
    "X_train, X_test, y_train, y_test = train_test_split(X, y, test_size=0.1, random_state=42, stratify=y)\n",
    "len(X_train), len(X_test),len(X_train), len(y_test)\n",
    "# len(X_train), len(X_train)"
   ]
  },
  {
   "cell_type": "code",
   "execution_count": 19,
   "metadata": {},
   "outputs": [],
   "source": [
    "# Save cleaned data\n",
    "training_dataset = pd.DataFrame({'Text': X_train, 'encoded_Author': y_train})\n",
    "training_dataset.to_csv(r\".\\data\\cleaned_data\\cleaned_c50_train.csv\")    \n",
    "testing_dataset = pd.DataFrame({'Text': X_test, 'encoded_Author': y_test})\n",
    "testing_dataset.to_csv(r\".\\data\\cleaned_data\\cleaned_c50_test.csv\")   "
   ]
  },
  {
   "cell_type": "markdown",
   "metadata": {},
   "source": [
    "# Tokenization"
   ]
  },
  {
   "cell_type": "code",
   "execution_count": 24,
   "metadata": {},
   "outputs": [],
   "source": [
    "# tokenizer = BertTokenizer.from_pretrained('bert-base-uncased',  do_lower_case=True)\n",
    "tokenizer = DistilBertTokenizer.from_pretrained('distilbert-base-uncased',  do_lower_case=True)\n",
    "# tokenizer = AlbertTokenizer.from_pretrained('albert-base-v2',  do_lower_case=True)\n",
    "MAX_LENGTH = full_data['word_count'].max()\n"
   ]
  },
  {
   "cell_type": "code",
   "execution_count": 25,
   "metadata": {},
   "outputs": [],
   "source": [
    "def encode(docs):\n",
    "    '''\n",
    "    This function takes list of texts and returns input_ids and attention_mask of texts\n",
    "    '''\n",
    "    encoded_dict = tokenizer.batch_encode_plus(docs, add_special_tokens=True, max_length=MAX_LENGTH, padding='max_length',\n",
    "                            return_attention_mask=True, truncation=True, return_tensors='pt')\n",
    "    input_ids = encoded_dict['input_ids']\n",
    "    # inputs_embeds = encoded_dict['inputs_embeds']\n",
    "    attention_masks = encoded_dict['attention_mask']\n",
    "    # texts = docs\n",
    "    # print(encoded_dict)\n",
    "    return input_ids, attention_masks#, texts\n",
    "# input_ids, attention_masks = encode(texts)\n",
    "# labels = torch.tensor(labels)  "
   ]
  },
  {
   "cell_type": "code",
   "execution_count": 26,
   "metadata": {},
   "outputs": [
    {
     "name": "stdout",
     "output_type": "stream",
     "text": [
      "No missing values in the labels\n"
     ]
    }
   ],
   "source": [
    "# Check for missing values in the labels\n",
    "if full_data['encoded_Author'].isnull().sum() > 0:\n",
    "    print('There are missing values in the labels!')\n",
    "else:\n",
    "    print('No missing values in the labels')"
   ]
  },
  {
   "cell_type": "code",
   "execution_count": 32,
   "metadata": {},
   "outputs": [],
   "source": [
    "X_train_ids, X_train_masks = encode(full_data['Text'])\n",
    "X_test_ids, X_test_masks = encode(full_data['Text'])\n",
    "y_train = torch.tensor(y_train).long()  # convert to long tensor\n",
    "y_test = torch.tensor(y_test).long() # convert to long tensor  "
   ]
  },
  {
   "cell_type": "markdown",
   "metadata": {},
   "source": [
    "# Save Tokenized Data"
   ]
  },
  {
   "cell_type": "code",
   "execution_count": 34,
   "metadata": {},
   "outputs": [],
   "source": [
    "torch.save(X_train_ids, \"./data/cleaned_data/tokenized_data/X_train_ids.pt\")\n",
    "torch.save(X_test_ids, \"./data/cleaned_data/tokenized_data/X_test_ids.pt\")\n",
    "torch.save(X_train_masks, \"./data/cleaned_data/tokenized_data/X_train_masks.pt\")\n",
    "torch.save(X_test_masks, \"./data/cleaned_data/tokenized_data/X_test_masks.pt\")\n",
    "np.save(\"./data/cleaned_data/tokenized_data/y_train_author.npy\", y_train)\n",
    "np.save(\"./data/cleaned_data/tokenized_data/y_test_author.npy\", y_test)"
   ]
  }
 ],
 "metadata": {
  "kernelspec": {
   "display_name": "datasci",
   "language": "python",
   "name": "datasci"
  },
  "language_info": {
   "codemirror_mode": {
    "name": "ipython",
    "version": 3
   },
   "file_extension": ".py",
   "mimetype": "text/x-python",
   "name": "python",
   "nbconvert_exporter": "python",
   "pygments_lexer": "ipython3",
   "version": "3.11.4"
  }
 },
 "nbformat": 4,
 "nbformat_minor": 2
}
